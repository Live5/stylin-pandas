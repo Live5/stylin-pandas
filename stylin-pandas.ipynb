{
 "cells": [
  {
   "cell_type": "markdown",
   "metadata": {
    "slideshow": {
     "slide_type": "slide"
    }
   },
   "source": [
    "## Stylin `Pandas`\n",
    "![pandas](img/large.jpg)"
   ]
  },
  {
   "cell_type": "markdown",
   "metadata": {
    "slideshow": {
     "slide_type": "slide"
    }
   },
   "source": [
    "## Are you tired of taking screen shots?\n",
    "<img src=\"https://support.apple.com/library/content/dam/edam/applecare/images/en_US/macos/macos-mojave-screenshot-menu-record.jpg\" alt=\"Screen Shot\" width=\"300\" height=\"150\"> "
   ]
  },
  {
   "cell_type": "markdown",
   "metadata": {
    "slideshow": {
     "slide_type": "slide"
    }
   },
   "source": [
    "## Tired of copy/pasting tables?\n",
    "<img src=\"https://betanews.com/wp-content/uploads/2018/04/Copy_Paste_2018.jpg\" alt=\"Copy Paste\" width=\"300\" height=\"150\"> \n"
   ]
  },
  {
   "cell_type": "markdown",
   "metadata": {
    "slideshow": {
     "slide_type": "slide"
    }
   },
   "source": [
    "## What if was easier to go from this:\n",
    "![base](img/base_table.png)"
   ]
  },
  {
   "cell_type": "markdown",
   "metadata": {
    "slideshow": {
     "slide_type": "slide"
    }
   },
   "source": [
    "## To THIS:\n",
    "![final](img/final_table.png)"
   ]
  },
  {
   "cell_type": "markdown",
   "metadata": {
    "slideshow": {
     "slide_type": "slide"
    }
   },
   "source": [
    "### Get data"
   ]
  },
  {
   "cell_type": "code",
   "execution_count": 5,
   "metadata": {},
   "outputs": [],
   "source": [
    "import sqlite3\n",
    "import pandas as pd"
   ]
  },
  {
   "cell_type": "code",
   "execution_count": 3,
   "metadata": {},
   "outputs": [],
   "source": [
    "pd_con = sqlite3.connect(\"flights.db\")"
   ]
  },
  {
   "cell_type": "code",
   "execution_count": 6,
   "metadata": {},
   "outputs": [],
   "source": [
    "df = pd.read_sql_query(\"\"\"\n",
    "SELECT country, count(*) AS count\n",
    "FROM airlines\n",
    "WHERE active = 'Y'\n",
    "GROUP BY country\n",
    "ORDER BY 2 DESC\n",
    "LIMIT 10\n",
    "\"\"\", pd_con)"
   ]
  },
  {
   "cell_type": "markdown",
   "metadata": {
    "slideshow": {
     "slide_type": "slide"
    }
   },
   "source": [
    "### Basics of what pandas produces"
   ]
  },
  {
   "cell_type": "code",
   "execution_count": 7,
   "metadata": {},
   "outputs": [
    {
     "data": {
      "text/html": [
       "<div>\n",
       "<style scoped>\n",
       "    .dataframe tbody tr th:only-of-type {\n",
       "        vertical-align: middle;\n",
       "    }\n",
       "\n",
       "    .dataframe tbody tr th {\n",
       "        vertical-align: top;\n",
       "    }\n",
       "\n",
       "    .dataframe thead th {\n",
       "        text-align: right;\n",
       "    }\n",
       "</style>\n",
       "<table border=\"1\" class=\"dataframe\">\n",
       "  <thead>\n",
       "    <tr style=\"text-align: right;\">\n",
       "      <th></th>\n",
       "      <th>country</th>\n",
       "      <th>count</th>\n",
       "    </tr>\n",
       "  </thead>\n",
       "  <tbody>\n",
       "    <tr>\n",
       "      <th>0</th>\n",
       "      <td>United States</td>\n",
       "      <td>141</td>\n",
       "    </tr>\n",
       "    <tr>\n",
       "      <th>1</th>\n",
       "      <td>Russia</td>\n",
       "      <td>72</td>\n",
       "    </tr>\n",
       "    <tr>\n",
       "      <th>2</th>\n",
       "      <td>United Kingdom</td>\n",
       "      <td>40</td>\n",
       "    </tr>\n",
       "    <tr>\n",
       "      <th>3</th>\n",
       "      <td>Germany</td>\n",
       "      <td>37</td>\n",
       "    </tr>\n",
       "    <tr>\n",
       "      <th>4</th>\n",
       "      <td>Canada</td>\n",
       "      <td>34</td>\n",
       "    </tr>\n",
       "    <tr>\n",
       "      <th>5</th>\n",
       "      <td>Australia</td>\n",
       "      <td>26</td>\n",
       "    </tr>\n",
       "    <tr>\n",
       "      <th>6</th>\n",
       "      <td>China</td>\n",
       "      <td>25</td>\n",
       "    </tr>\n",
       "    <tr>\n",
       "      <th>7</th>\n",
       "      <td>Spain</td>\n",
       "      <td>24</td>\n",
       "    </tr>\n",
       "    <tr>\n",
       "      <th>8</th>\n",
       "      <td>Brazil</td>\n",
       "      <td>23</td>\n",
       "    </tr>\n",
       "    <tr>\n",
       "      <th>9</th>\n",
       "      <td>France</td>\n",
       "      <td>22</td>\n",
       "    </tr>\n",
       "  </tbody>\n",
       "</table>\n",
       "</div>"
      ],
      "text/plain": [
       "          country  count\n",
       "0   United States    141\n",
       "1          Russia     72\n",
       "2  United Kingdom     40\n",
       "3         Germany     37\n",
       "4          Canada     34\n",
       "5       Australia     26\n",
       "6           China     25\n",
       "7           Spain     24\n",
       "8          Brazil     23\n",
       "9          France     22"
      ]
     },
     "execution_count": 7,
     "metadata": {},
     "output_type": "execute_result"
    }
   ],
   "source": [
    "df"
   ]
  },
  {
   "cell_type": "markdown",
   "metadata": {
    "slideshow": {
     "slide_type": "slide"
    }
   },
   "source": [
    "### Html rendering of pandas data frames\n",
    "\n",
    "The [style](https://pandas.pydata.org/pandas-docs/stable/user_guide/style.html) object of data frames"
   ]
  },
  {
   "cell_type": "code",
   "execution_count": 9,
   "metadata": {},
   "outputs": [],
   "source": [
    "html1 = df.style.render()"
   ]
  },
  {
   "cell_type": "code",
   "execution_count": null,
   "metadata": {},
   "outputs": [],
   "source": [
    "html1"
   ]
  },
  {
   "cell_type": "markdown",
   "metadata": {
    "slideshow": {
     "slide_type": "slide"
    }
   },
   "source": [
    "### New package!!!\n",
    "\n",
    "There are a few other packages that do this, but I found this one the most straight forward.\n",
    "\n",
    "[Image Kit documentation](https://github.com/jarrekk/imgkit)\n"
   ]
  },
  {
   "cell_type": "code",
   "execution_count": 10,
   "metadata": {},
   "outputs": [
    {
     "name": "stdout",
     "output_type": "stream",
     "text": [
      "Loading page (1/2)\n",
      "Rendering (2/2)                                                    \n",
      "Done                                                               \n"
     ]
    },
    {
     "data": {
      "text/plain": [
       "True"
      ]
     },
     "execution_count": 10,
     "metadata": {},
     "output_type": "execute_result"
    }
   ],
   "source": [
    "import imgkit\n",
    "imgkit.from_string(html1, 'base_table.png')"
   ]
  },
  {
   "cell_type": "markdown",
   "metadata": {
    "slideshow": {
     "slide_type": "slide"
    }
   },
   "source": [
    "### First style option"
   ]
  },
  {
   "cell_type": "code",
   "execution_count": 12,
   "metadata": {},
   "outputs": [
    {
     "name": "stdout",
     "output_type": "stream",
     "text": [
      "Loading page (1/2)\n",
      "Rendering (2/2)                                                    \n",
      "Done                                                               \n"
     ]
    },
    {
     "data": {
      "text/plain": [
       "True"
      ]
     },
     "execution_count": 12,
     "metadata": {},
     "output_type": "execute_result"
    }
   ],
   "source": [
    "html3 = df.style.hide_index()\n",
    "test = html3.render()\n",
    "imgkit.from_string(test, 'no_index.png')"
   ]
  },
  {
   "cell_type": "markdown",
   "metadata": {
    "slideshow": {
     "slide_type": "slide"
    }
   },
   "source": [
    "### HTML Review\n",
    "\n",
    "| tag | meaning |\n",
    "|-----|---------|\n",
    "| th | table header|\n",
    "| tr | table row |\n",
    "| td | table data cell |"
   ]
  },
  {
   "cell_type": "code",
   "execution_count": 14,
   "metadata": {},
   "outputs": [],
   "source": [
    "styled_table = df.style\\\n",
    "                 .set_table_styles([\n",
    "                    {'selector': 'th',\n",
    "                     'props': [('background', '#606060'), \n",
    "                               ('color', 'white'),\n",
    "                               ('font-family', 'verdana'),\n",
    "                               (\"text-align\", \"left\")]\n",
    "                    }]).hide_index()"
   ]
  },
  {
   "cell_type": "code",
   "execution_count": 15,
   "metadata": {
    "slideshow": {
     "slide_type": "slide"
    }
   },
   "outputs": [
    {
     "name": "stdout",
     "output_type": "stream",
     "text": [
      "Loading page (1/2)\n",
      "Rendering (2/2)                                                    \n",
      "Done                                                               \n"
     ]
    },
    {
     "data": {
      "text/plain": [
       "True"
      ]
     },
     "execution_count": 15,
     "metadata": {},
     "output_type": "execute_result"
    }
   ],
   "source": [
    "test = styled_table.render()\n",
    "imgkit.from_string(test, 'first_styled.png')"
   ]
  },
  {
   "cell_type": "code",
   "execution_count": 17,
   "metadata": {
    "slideshow": {
     "slide_type": "slide"
    }
   },
   "outputs": [],
   "source": [
    "nice = df\n",
    "nice.columns = df.columns.str.title()"
   ]
  },
  {
   "cell_type": "code",
   "execution_count": 18,
   "metadata": {
    "slideshow": {
     "slide_type": "slide"
    }
   },
   "outputs": [],
   "source": [
    "fixed =nice.style\\\n",
    "                 .set_table_styles([\n",
    "                    {'selector': 'th',\n",
    "                     'props': [('background', '#606060'), \n",
    "                               ('color', 'white'),\n",
    "                               ('font-family', 'verdana'),\n",
    "                               (\"text-align\", \"left\")]\n",
    "                    }]).hide_index()\n",
    "update = fixed.render()"
   ]
  },
  {
   "cell_type": "code",
   "execution_count": 19,
   "metadata": {
    "slideshow": {
     "slide_type": "slide"
    }
   },
   "outputs": [
    {
     "name": "stdout",
     "output_type": "stream",
     "text": [
      "Loading page (1/2)\n",
      "Rendering (2/2)                                                    \n",
      "Done                                                               \n"
     ]
    },
    {
     "data": {
      "text/plain": [
       "True"
      ]
     },
     "execution_count": 19,
     "metadata": {},
     "output_type": "execute_result"
    }
   ],
   "source": [
    "imgkit.from_string(update, 'fixed_heading.png')"
   ]
  },
  {
   "cell_type": "markdown",
   "metadata": {
    "slideshow": {
     "slide_type": "slide"
    }
   },
   "source": [
    "### Enhancing the style of your table"
   ]
  },
  {
   "cell_type": "code",
   "execution_count": 22,
   "metadata": {},
   "outputs": [
    {
     "name": "stdout",
     "output_type": "stream",
     "text": [
      "Loading page (1/2)\n",
      "Rendering (2/2)                                                    \n",
      "Done                                                               \n"
     ]
    },
    {
     "data": {
      "text/plain": [
       "True"
      ]
     },
     "execution_count": 22,
     "metadata": {},
     "output_type": "execute_result"
    }
   ],
   "source": [
    "improved = nice.style\\\n",
    "                 .set_table_styles([\n",
    "                                {'selector': 'th',\n",
    "                                 'props': [('background', '#606060'), \n",
    "                                           ('color', 'white'),\n",
    "                                           ('font-family', 'verdana'),\n",
    "                                           (\"text-align\", \"left\")]\n",
    "                                },\n",
    "                                {'selector': 'td',\n",
    "                                 'props': [('font-family', 'verdana'),\n",
    "                                           ('border', \"1\"),\n",
    "                                           (\"border-color\", \"black\"),\n",
    "                                           ('border-style','solid'),\n",
    "                                           ('border-width','1px')]\n",
    "                                }])\\\n",
    "                .hide_index()\n",
    "html = improved.render()\n",
    "imgkit.from_string(html, 'border1.png')"
   ]
  },
  {
   "cell_type": "markdown",
   "metadata": {
    "slideshow": {
     "slide_type": "slide"
    }
   },
   "source": [
    "### Saving `css` styles"
   ]
  },
  {
   "cell_type": "code",
   "execution_count": 25,
   "metadata": {},
   "outputs": [],
   "source": [
    "th_styles={'selector': 'th',\n",
    "           'props': [('background', '#606060'), \n",
    "                     ('color', 'white'),\n",
    "                     ('font-family', 'verdana'),\n",
    "                     (\"text-align\", \"left\")]\n",
    "          }\n",
    "\n",
    "td_styles = {'selector': 'td',\n",
    "             'props': [('font-family', 'verdana'),\n",
    "                       ('border', \"1\"),\n",
    "                       (\"border-color\", \"black\"),\n",
    "                       ('border-style','solid'),\n",
    "                       ('border-width','1px')]\n",
    "            }"
   ]
  },
  {
   "cell_type": "markdown",
   "metadata": {
    "slideshow": {
     "slide_type": "slide"
    }
   },
   "source": [
    "### Simplified code"
   ]
  },
  {
   "cell_type": "code",
   "execution_count": 26,
   "metadata": {},
   "outputs": [
    {
     "name": "stdout",
     "output_type": "stream",
     "text": [
      "Loading page (1/2)\n",
      "Rendering (2/2)                                                    \n",
      "Done                                                               \n"
     ]
    },
    {
     "data": {
      "text/plain": [
       "True"
      ]
     },
     "execution_count": 26,
     "metadata": {},
     "output_type": "execute_result"
    }
   ],
   "source": [
    "improved = nice.style.set_table_styles([th_styles,td_styles]).hide_index()\n",
    "html = improved.render()\n",
    "imgkit.from_string(html, 'border2.png')"
   ]
  },
  {
   "cell_type": "markdown",
   "metadata": {
    "slideshow": {
     "slide_type": "slide"
    }
   },
   "source": [
    "### Get a border"
   ]
  },
  {
   "cell_type": "code",
   "execution_count": 27,
   "metadata": {},
   "outputs": [
    {
     "name": "stdout",
     "output_type": "stream",
     "text": [
      "Loading page (1/2)\n",
      "Rendering (2/2)                                                    \n",
      "Done                                                               \n"
     ]
    },
    {
     "data": {
      "text/plain": [
       "True"
      ]
     },
     "execution_count": 27,
     "metadata": {},
     "output_type": "execute_result"
    }
   ],
   "source": [
    "improved = nice.style.set_table_attributes('style=\"border-collapse:collapse\"')\\\n",
    "                     .set_table_styles([th_styles,td_styles]).hide_index()\n",
    "html = improved.render()\n",
    "imgkit.from_string(html, 'border3.png')"
   ]
  },
  {
   "cell_type": "markdown",
   "metadata": {
    "slideshow": {
     "slide_type": "slide"
    }
   },
   "source": [
    "### Other table attributes\n",
    "![table attrib](img/table_attributes.png)"
   ]
  },
  {
   "cell_type": "markdown",
   "metadata": {
    "slideshow": {
     "slide_type": "slide"
    }
   },
   "source": [
    "### Change background for rows"
   ]
  },
  {
   "cell_type": "code",
   "execution_count": 28,
   "metadata": {},
   "outputs": [],
   "source": [
    "tr_odds = {'selector': 'tr:nth-of-type(odd)',\n",
    "           'props': [('background', '#eee'), \n",
    "                     (\"border\", \"0.2px solid black\")]\n",
    "          }\n",
    "\n",
    "tr_evens =  {'selector': 'tr:nth-of-type(even)',\n",
    "             'props': [('background', 'white'), \n",
    "                       (\"border\", \"0.2px solid black\")]\n",
    "            }"
   ]
  },
  {
   "cell_type": "code",
   "execution_count": 30,
   "metadata": {
    "slideshow": {
     "slide_type": "slide"
    }
   },
   "outputs": [
    {
     "name": "stdout",
     "output_type": "stream",
     "text": [
      "Loading page (1/2)\n",
      "Rendering (2/2)                                                    \n",
      "Done                                                               \n"
     ]
    },
    {
     "data": {
      "text/plain": [
       "True"
      ]
     },
     "execution_count": 30,
     "metadata": {},
     "output_type": "execute_result"
    }
   ],
   "source": [
    "improved = nice.style.set_table_attributes('style=\"border-collapse:collapse\"')\\\n",
    "                     .set_table_styles([th_styles,\n",
    "                                        td_styles,\n",
    "                                        tr_odds, \n",
    "                                        tr_evens])\\\n",
    "                    .hide_index()\n",
    "html = improved.render()\n",
    "imgkit.from_string(html, 'row_improvements.png')"
   ]
  },
  {
   "cell_type": "markdown",
   "metadata": {
    "slideshow": {
     "slide_type": "slide"
    }
   },
   "source": [
    "### Other fun features\n",
    "### Make data"
   ]
  },
  {
   "cell_type": "code",
   "execution_count": 32,
   "metadata": {},
   "outputs": [],
   "source": [
    "import numpy as np\n",
    "\n",
    "np.random.seed(24)\n",
    "df = pd.DataFrame({'A': np.linspace(1, 10, 10)})\n",
    "df = pd.concat([df, pd.DataFrame(np.random.randn(10, 4), columns=list('BCDE'))],\n",
    "               axis=1)"
   ]
  },
  {
   "cell_type": "markdown",
   "metadata": {
    "slideshow": {
     "slide_type": "slide"
    }
   },
   "source": [
    "### Style it up!"
   ]
  },
  {
   "cell_type": "code",
   "execution_count": 33,
   "metadata": {},
   "outputs": [],
   "source": [
    "template = [th_styles, td_styles, tr_odds, tr_evens]"
   ]
  },
  {
   "cell_type": "code",
   "execution_count": 34,
   "metadata": {},
   "outputs": [],
   "source": [
    "styled  = df.style.set_table_attributes('style=\"border-collapse:collapse\"')\\\n",
    "                  .set_table_styles(template)\\\n",
    "                  .hide_index()"
   ]
  },
  {
   "cell_type": "code",
   "execution_count": 35,
   "metadata": {},
   "outputs": [
    {
     "data": {
      "text/html": [
       "<style  type=\"text/css\" >\n",
       "    #T_e87a3224_ba0a_11e9_8ecc_f2189866aa27 th {\n",
       "          background: #606060;\n",
       "          color: white;\n",
       "          font-family: verdana;\n",
       "          text-align: left;\n",
       "    }    #T_e87a3224_ba0a_11e9_8ecc_f2189866aa27 td {\n",
       "          font-family: verdana;\n",
       "          border: 1;\n",
       "          border-color: black;\n",
       "          border-style: solid;\n",
       "          border-width: 1px;\n",
       "    }    #T_e87a3224_ba0a_11e9_8ecc_f2189866aa27 tr:nth-of-type(odd) {\n",
       "          background: #eee;\n",
       "          border: 0.2px solid black;\n",
       "    }    #T_e87a3224_ba0a_11e9_8ecc_f2189866aa27 tr:nth-of-type(even) {\n",
       "          background: white;\n",
       "          border: 0.2px solid black;\n",
       "    }</style><table id=\"T_e87a3224_ba0a_11e9_8ecc_f2189866aa27\" style=\"border-collapse:collapse\"><thead>    <tr>        <th class=\"col_heading level0 col0\" >A</th>        <th class=\"col_heading level0 col1\" >B</th>        <th class=\"col_heading level0 col2\" >C</th>        <th class=\"col_heading level0 col3\" >D</th>        <th class=\"col_heading level0 col4\" >E</th>    </tr></thead><tbody>\n",
       "                <tr>\n",
       "                                <td id=\"T_e87a3224_ba0a_11e9_8ecc_f2189866aa27row0_col0\" class=\"data row0 col0\" >1</td>\n",
       "                        <td id=\"T_e87a3224_ba0a_11e9_8ecc_f2189866aa27row0_col1\" class=\"data row0 col1\" >1.32921</td>\n",
       "                        <td id=\"T_e87a3224_ba0a_11e9_8ecc_f2189866aa27row0_col2\" class=\"data row0 col2\" >-0.770033</td>\n",
       "                        <td id=\"T_e87a3224_ba0a_11e9_8ecc_f2189866aa27row0_col3\" class=\"data row0 col3\" >-0.31628</td>\n",
       "                        <td id=\"T_e87a3224_ba0a_11e9_8ecc_f2189866aa27row0_col4\" class=\"data row0 col4\" >-0.99081</td>\n",
       "            </tr>\n",
       "            <tr>\n",
       "                                <td id=\"T_e87a3224_ba0a_11e9_8ecc_f2189866aa27row1_col0\" class=\"data row1 col0\" >2</td>\n",
       "                        <td id=\"T_e87a3224_ba0a_11e9_8ecc_f2189866aa27row1_col1\" class=\"data row1 col1\" >-1.07082</td>\n",
       "                        <td id=\"T_e87a3224_ba0a_11e9_8ecc_f2189866aa27row1_col2\" class=\"data row1 col2\" >-1.43871</td>\n",
       "                        <td id=\"T_e87a3224_ba0a_11e9_8ecc_f2189866aa27row1_col3\" class=\"data row1 col3\" >0.564417</td>\n",
       "                        <td id=\"T_e87a3224_ba0a_11e9_8ecc_f2189866aa27row1_col4\" class=\"data row1 col4\" >0.295722</td>\n",
       "            </tr>\n",
       "            <tr>\n",
       "                                <td id=\"T_e87a3224_ba0a_11e9_8ecc_f2189866aa27row2_col0\" class=\"data row2 col0\" >3</td>\n",
       "                        <td id=\"T_e87a3224_ba0a_11e9_8ecc_f2189866aa27row2_col1\" class=\"data row2 col1\" >-1.6264</td>\n",
       "                        <td id=\"T_e87a3224_ba0a_11e9_8ecc_f2189866aa27row2_col2\" class=\"data row2 col2\" >0.219565</td>\n",
       "                        <td id=\"T_e87a3224_ba0a_11e9_8ecc_f2189866aa27row2_col3\" class=\"data row2 col3\" >0.678805</td>\n",
       "                        <td id=\"T_e87a3224_ba0a_11e9_8ecc_f2189866aa27row2_col4\" class=\"data row2 col4\" >1.88927</td>\n",
       "            </tr>\n",
       "            <tr>\n",
       "                                <td id=\"T_e87a3224_ba0a_11e9_8ecc_f2189866aa27row3_col0\" class=\"data row3 col0\" >4</td>\n",
       "                        <td id=\"T_e87a3224_ba0a_11e9_8ecc_f2189866aa27row3_col1\" class=\"data row3 col1\" >0.961538</td>\n",
       "                        <td id=\"T_e87a3224_ba0a_11e9_8ecc_f2189866aa27row3_col2\" class=\"data row3 col2\" >0.104011</td>\n",
       "                        <td id=\"T_e87a3224_ba0a_11e9_8ecc_f2189866aa27row3_col3\" class=\"data row3 col3\" >-0.481165</td>\n",
       "                        <td id=\"T_e87a3224_ba0a_11e9_8ecc_f2189866aa27row3_col4\" class=\"data row3 col4\" >0.850229</td>\n",
       "            </tr>\n",
       "            <tr>\n",
       "                                <td id=\"T_e87a3224_ba0a_11e9_8ecc_f2189866aa27row4_col0\" class=\"data row4 col0\" >5</td>\n",
       "                        <td id=\"T_e87a3224_ba0a_11e9_8ecc_f2189866aa27row4_col1\" class=\"data row4 col1\" >1.45342</td>\n",
       "                        <td id=\"T_e87a3224_ba0a_11e9_8ecc_f2189866aa27row4_col2\" class=\"data row4 col2\" >1.05774</td>\n",
       "                        <td id=\"T_e87a3224_ba0a_11e9_8ecc_f2189866aa27row4_col3\" class=\"data row4 col3\" >0.165562</td>\n",
       "                        <td id=\"T_e87a3224_ba0a_11e9_8ecc_f2189866aa27row4_col4\" class=\"data row4 col4\" >0.515018</td>\n",
       "            </tr>\n",
       "            <tr>\n",
       "                                <td id=\"T_e87a3224_ba0a_11e9_8ecc_f2189866aa27row5_col0\" class=\"data row5 col0\" >6</td>\n",
       "                        <td id=\"T_e87a3224_ba0a_11e9_8ecc_f2189866aa27row5_col1\" class=\"data row5 col1\" >-1.33694</td>\n",
       "                        <td id=\"T_e87a3224_ba0a_11e9_8ecc_f2189866aa27row5_col2\" class=\"data row5 col2\" >0.562861</td>\n",
       "                        <td id=\"T_e87a3224_ba0a_11e9_8ecc_f2189866aa27row5_col3\" class=\"data row5 col3\" >1.39285</td>\n",
       "                        <td id=\"T_e87a3224_ba0a_11e9_8ecc_f2189866aa27row5_col4\" class=\"data row5 col4\" >-0.063328</td>\n",
       "            </tr>\n",
       "            <tr>\n",
       "                                <td id=\"T_e87a3224_ba0a_11e9_8ecc_f2189866aa27row6_col0\" class=\"data row6 col0\" >7</td>\n",
       "                        <td id=\"T_e87a3224_ba0a_11e9_8ecc_f2189866aa27row6_col1\" class=\"data row6 col1\" >0.121668</td>\n",
       "                        <td id=\"T_e87a3224_ba0a_11e9_8ecc_f2189866aa27row6_col2\" class=\"data row6 col2\" >1.2076</td>\n",
       "                        <td id=\"T_e87a3224_ba0a_11e9_8ecc_f2189866aa27row6_col3\" class=\"data row6 col3\" >-0.00204021</td>\n",
       "                        <td id=\"T_e87a3224_ba0a_11e9_8ecc_f2189866aa27row6_col4\" class=\"data row6 col4\" >1.6278</td>\n",
       "            </tr>\n",
       "            <tr>\n",
       "                                <td id=\"T_e87a3224_ba0a_11e9_8ecc_f2189866aa27row7_col0\" class=\"data row7 col0\" >8</td>\n",
       "                        <td id=\"T_e87a3224_ba0a_11e9_8ecc_f2189866aa27row7_col1\" class=\"data row7 col1\" >0.354493</td>\n",
       "                        <td id=\"T_e87a3224_ba0a_11e9_8ecc_f2189866aa27row7_col2\" class=\"data row7 col2\" >1.03753</td>\n",
       "                        <td id=\"T_e87a3224_ba0a_11e9_8ecc_f2189866aa27row7_col3\" class=\"data row7 col3\" >-0.385684</td>\n",
       "                        <td id=\"T_e87a3224_ba0a_11e9_8ecc_f2189866aa27row7_col4\" class=\"data row7 col4\" >0.519818</td>\n",
       "            </tr>\n",
       "            <tr>\n",
       "                                <td id=\"T_e87a3224_ba0a_11e9_8ecc_f2189866aa27row8_col0\" class=\"data row8 col0\" >9</td>\n",
       "                        <td id=\"T_e87a3224_ba0a_11e9_8ecc_f2189866aa27row8_col1\" class=\"data row8 col1\" >1.68658</td>\n",
       "                        <td id=\"T_e87a3224_ba0a_11e9_8ecc_f2189866aa27row8_col2\" class=\"data row8 col2\" >-1.32596</td>\n",
       "                        <td id=\"T_e87a3224_ba0a_11e9_8ecc_f2189866aa27row8_col3\" class=\"data row8 col3\" >1.42898</td>\n",
       "                        <td id=\"T_e87a3224_ba0a_11e9_8ecc_f2189866aa27row8_col4\" class=\"data row8 col4\" >-2.08935</td>\n",
       "            </tr>\n",
       "            <tr>\n",
       "                                <td id=\"T_e87a3224_ba0a_11e9_8ecc_f2189866aa27row9_col0\" class=\"data row9 col0\" >10</td>\n",
       "                        <td id=\"T_e87a3224_ba0a_11e9_8ecc_f2189866aa27row9_col1\" class=\"data row9 col1\" >-0.12982</td>\n",
       "                        <td id=\"T_e87a3224_ba0a_11e9_8ecc_f2189866aa27row9_col2\" class=\"data row9 col2\" >0.631523</td>\n",
       "                        <td id=\"T_e87a3224_ba0a_11e9_8ecc_f2189866aa27row9_col3\" class=\"data row9 col3\" >-0.586538</td>\n",
       "                        <td id=\"T_e87a3224_ba0a_11e9_8ecc_f2189866aa27row9_col4\" class=\"data row9 col4\" >0.29072</td>\n",
       "            </tr>\n",
       "    </tbody></table>"
      ],
      "text/plain": [
       "<pandas.io.formats.style.Styler at 0x11da4a4a8>"
      ]
     },
     "execution_count": 35,
     "metadata": {},
     "output_type": "execute_result"
    }
   ],
   "source": [
    "styled"
   ]
  },
  {
   "cell_type": "markdown",
   "metadata": {
    "slideshow": {
     "slide_type": "slide"
    }
   },
   "source": [
    "### Format those numbers!!!"
   ]
  },
  {
   "cell_type": "code",
   "execution_count": 37,
   "metadata": {},
   "outputs": [],
   "source": [
    "numbers_table  = df.style.set_table_attributes('style=\"border-collapse:collapse\"')\\\n",
    "                         .set_table_styles(template)\\\n",
    "                        .hide_index().format(\"{:.2%}\")"
   ]
  },
  {
   "cell_type": "code",
   "execution_count": 38,
   "metadata": {},
   "outputs": [
    {
     "data": {
      "text/html": [
       "<style  type=\"text/css\" >\n",
       "    #T_6658e280_ba0b_11e9_8ecc_f2189866aa27 th {\n",
       "          background: #606060;\n",
       "          color: white;\n",
       "          font-family: verdana;\n",
       "          text-align: left;\n",
       "    }    #T_6658e280_ba0b_11e9_8ecc_f2189866aa27 td {\n",
       "          font-family: verdana;\n",
       "          border: 1;\n",
       "          border-color: black;\n",
       "          border-style: solid;\n",
       "          border-width: 1px;\n",
       "    }    #T_6658e280_ba0b_11e9_8ecc_f2189866aa27 tr:nth-of-type(odd) {\n",
       "          background: #eee;\n",
       "          border: 0.2px solid black;\n",
       "    }    #T_6658e280_ba0b_11e9_8ecc_f2189866aa27 tr:nth-of-type(even) {\n",
       "          background: white;\n",
       "          border: 0.2px solid black;\n",
       "    }</style><table id=\"T_6658e280_ba0b_11e9_8ecc_f2189866aa27\" style=\"border-collapse:collapse\"><thead>    <tr>        <th class=\"col_heading level0 col0\" >A</th>        <th class=\"col_heading level0 col1\" >B</th>        <th class=\"col_heading level0 col2\" >C</th>        <th class=\"col_heading level0 col3\" >D</th>        <th class=\"col_heading level0 col4\" >E</th>    </tr></thead><tbody>\n",
       "                <tr>\n",
       "                                <td id=\"T_6658e280_ba0b_11e9_8ecc_f2189866aa27row0_col0\" class=\"data row0 col0\" >100.00%</td>\n",
       "                        <td id=\"T_6658e280_ba0b_11e9_8ecc_f2189866aa27row0_col1\" class=\"data row0 col1\" >132.92%</td>\n",
       "                        <td id=\"T_6658e280_ba0b_11e9_8ecc_f2189866aa27row0_col2\" class=\"data row0 col2\" >-77.00%</td>\n",
       "                        <td id=\"T_6658e280_ba0b_11e9_8ecc_f2189866aa27row0_col3\" class=\"data row0 col3\" >-31.63%</td>\n",
       "                        <td id=\"T_6658e280_ba0b_11e9_8ecc_f2189866aa27row0_col4\" class=\"data row0 col4\" >-99.08%</td>\n",
       "            </tr>\n",
       "            <tr>\n",
       "                                <td id=\"T_6658e280_ba0b_11e9_8ecc_f2189866aa27row1_col0\" class=\"data row1 col0\" >200.00%</td>\n",
       "                        <td id=\"T_6658e280_ba0b_11e9_8ecc_f2189866aa27row1_col1\" class=\"data row1 col1\" >-107.08%</td>\n",
       "                        <td id=\"T_6658e280_ba0b_11e9_8ecc_f2189866aa27row1_col2\" class=\"data row1 col2\" >-143.87%</td>\n",
       "                        <td id=\"T_6658e280_ba0b_11e9_8ecc_f2189866aa27row1_col3\" class=\"data row1 col3\" >56.44%</td>\n",
       "                        <td id=\"T_6658e280_ba0b_11e9_8ecc_f2189866aa27row1_col4\" class=\"data row1 col4\" >29.57%</td>\n",
       "            </tr>\n",
       "            <tr>\n",
       "                                <td id=\"T_6658e280_ba0b_11e9_8ecc_f2189866aa27row2_col0\" class=\"data row2 col0\" >300.00%</td>\n",
       "                        <td id=\"T_6658e280_ba0b_11e9_8ecc_f2189866aa27row2_col1\" class=\"data row2 col1\" >-162.64%</td>\n",
       "                        <td id=\"T_6658e280_ba0b_11e9_8ecc_f2189866aa27row2_col2\" class=\"data row2 col2\" >21.96%</td>\n",
       "                        <td id=\"T_6658e280_ba0b_11e9_8ecc_f2189866aa27row2_col3\" class=\"data row2 col3\" >67.88%</td>\n",
       "                        <td id=\"T_6658e280_ba0b_11e9_8ecc_f2189866aa27row2_col4\" class=\"data row2 col4\" >188.93%</td>\n",
       "            </tr>\n",
       "            <tr>\n",
       "                                <td id=\"T_6658e280_ba0b_11e9_8ecc_f2189866aa27row3_col0\" class=\"data row3 col0\" >400.00%</td>\n",
       "                        <td id=\"T_6658e280_ba0b_11e9_8ecc_f2189866aa27row3_col1\" class=\"data row3 col1\" >96.15%</td>\n",
       "                        <td id=\"T_6658e280_ba0b_11e9_8ecc_f2189866aa27row3_col2\" class=\"data row3 col2\" >10.40%</td>\n",
       "                        <td id=\"T_6658e280_ba0b_11e9_8ecc_f2189866aa27row3_col3\" class=\"data row3 col3\" >-48.12%</td>\n",
       "                        <td id=\"T_6658e280_ba0b_11e9_8ecc_f2189866aa27row3_col4\" class=\"data row3 col4\" >85.02%</td>\n",
       "            </tr>\n",
       "            <tr>\n",
       "                                <td id=\"T_6658e280_ba0b_11e9_8ecc_f2189866aa27row4_col0\" class=\"data row4 col0\" >500.00%</td>\n",
       "                        <td id=\"T_6658e280_ba0b_11e9_8ecc_f2189866aa27row4_col1\" class=\"data row4 col1\" >145.34%</td>\n",
       "                        <td id=\"T_6658e280_ba0b_11e9_8ecc_f2189866aa27row4_col2\" class=\"data row4 col2\" >105.77%</td>\n",
       "                        <td id=\"T_6658e280_ba0b_11e9_8ecc_f2189866aa27row4_col3\" class=\"data row4 col3\" >16.56%</td>\n",
       "                        <td id=\"T_6658e280_ba0b_11e9_8ecc_f2189866aa27row4_col4\" class=\"data row4 col4\" >51.50%</td>\n",
       "            </tr>\n",
       "            <tr>\n",
       "                                <td id=\"T_6658e280_ba0b_11e9_8ecc_f2189866aa27row5_col0\" class=\"data row5 col0\" >600.00%</td>\n",
       "                        <td id=\"T_6658e280_ba0b_11e9_8ecc_f2189866aa27row5_col1\" class=\"data row5 col1\" >-133.69%</td>\n",
       "                        <td id=\"T_6658e280_ba0b_11e9_8ecc_f2189866aa27row5_col2\" class=\"data row5 col2\" >56.29%</td>\n",
       "                        <td id=\"T_6658e280_ba0b_11e9_8ecc_f2189866aa27row5_col3\" class=\"data row5 col3\" >139.29%</td>\n",
       "                        <td id=\"T_6658e280_ba0b_11e9_8ecc_f2189866aa27row5_col4\" class=\"data row5 col4\" >-6.33%</td>\n",
       "            </tr>\n",
       "            <tr>\n",
       "                                <td id=\"T_6658e280_ba0b_11e9_8ecc_f2189866aa27row6_col0\" class=\"data row6 col0\" >700.00%</td>\n",
       "                        <td id=\"T_6658e280_ba0b_11e9_8ecc_f2189866aa27row6_col1\" class=\"data row6 col1\" >12.17%</td>\n",
       "                        <td id=\"T_6658e280_ba0b_11e9_8ecc_f2189866aa27row6_col2\" class=\"data row6 col2\" >120.76%</td>\n",
       "                        <td id=\"T_6658e280_ba0b_11e9_8ecc_f2189866aa27row6_col3\" class=\"data row6 col3\" >-0.20%</td>\n",
       "                        <td id=\"T_6658e280_ba0b_11e9_8ecc_f2189866aa27row6_col4\" class=\"data row6 col4\" >162.78%</td>\n",
       "            </tr>\n",
       "            <tr>\n",
       "                                <td id=\"T_6658e280_ba0b_11e9_8ecc_f2189866aa27row7_col0\" class=\"data row7 col0\" >800.00%</td>\n",
       "                        <td id=\"T_6658e280_ba0b_11e9_8ecc_f2189866aa27row7_col1\" class=\"data row7 col1\" >35.45%</td>\n",
       "                        <td id=\"T_6658e280_ba0b_11e9_8ecc_f2189866aa27row7_col2\" class=\"data row7 col2\" >103.75%</td>\n",
       "                        <td id=\"T_6658e280_ba0b_11e9_8ecc_f2189866aa27row7_col3\" class=\"data row7 col3\" >-38.57%</td>\n",
       "                        <td id=\"T_6658e280_ba0b_11e9_8ecc_f2189866aa27row7_col4\" class=\"data row7 col4\" >51.98%</td>\n",
       "            </tr>\n",
       "            <tr>\n",
       "                                <td id=\"T_6658e280_ba0b_11e9_8ecc_f2189866aa27row8_col0\" class=\"data row8 col0\" >900.00%</td>\n",
       "                        <td id=\"T_6658e280_ba0b_11e9_8ecc_f2189866aa27row8_col1\" class=\"data row8 col1\" >168.66%</td>\n",
       "                        <td id=\"T_6658e280_ba0b_11e9_8ecc_f2189866aa27row8_col2\" class=\"data row8 col2\" >-132.60%</td>\n",
       "                        <td id=\"T_6658e280_ba0b_11e9_8ecc_f2189866aa27row8_col3\" class=\"data row8 col3\" >142.90%</td>\n",
       "                        <td id=\"T_6658e280_ba0b_11e9_8ecc_f2189866aa27row8_col4\" class=\"data row8 col4\" >-208.94%</td>\n",
       "            </tr>\n",
       "            <tr>\n",
       "                                <td id=\"T_6658e280_ba0b_11e9_8ecc_f2189866aa27row9_col0\" class=\"data row9 col0\" >1000.00%</td>\n",
       "                        <td id=\"T_6658e280_ba0b_11e9_8ecc_f2189866aa27row9_col1\" class=\"data row9 col1\" >-12.98%</td>\n",
       "                        <td id=\"T_6658e280_ba0b_11e9_8ecc_f2189866aa27row9_col2\" class=\"data row9 col2\" >63.15%</td>\n",
       "                        <td id=\"T_6658e280_ba0b_11e9_8ecc_f2189866aa27row9_col3\" class=\"data row9 col3\" >-58.65%</td>\n",
       "                        <td id=\"T_6658e280_ba0b_11e9_8ecc_f2189866aa27row9_col4\" class=\"data row9 col4\" >29.07%</td>\n",
       "            </tr>\n",
       "    </tbody></table>"
      ],
      "text/plain": [
       "<pandas.io.formats.style.Styler at 0x11da4afd0>"
      ]
     },
     "execution_count": 38,
     "metadata": {},
     "output_type": "execute_result"
    }
   ],
   "source": [
    "numbers_table"
   ]
  },
  {
   "cell_type": "markdown",
   "metadata": {
    "slideshow": {
     "slide_type": "slide"
    }
   },
   "source": [
    "### Specify which columns get  which formatting "
   ]
  },
  {
   "cell_type": "code",
   "execution_count": 39,
   "metadata": {},
   "outputs": [],
   "source": [
    "numbers_table  = df.style.set_table_attributes('style=\"border-collapse:collapse\"')\\\n",
    "                         .set_table_styles(template)\\\n",
    "                         .hide_index()\\\n",
    "                         .format({'B': '${:,.2f}', 'C':'{:.2%}', 'D': '{:+.2f}'})"
   ]
  },
  {
   "cell_type": "code",
   "execution_count": 40,
   "metadata": {},
   "outputs": [
    {
     "data": {
      "text/html": [
       "<style  type=\"text/css\" >\n",
       "    #T_e8d6373e_ba0c_11e9_8ecc_f2189866aa27 th {\n",
       "          background: #606060;\n",
       "          color: white;\n",
       "          font-family: verdana;\n",
       "          text-align: left;\n",
       "    }    #T_e8d6373e_ba0c_11e9_8ecc_f2189866aa27 td {\n",
       "          font-family: verdana;\n",
       "          border: 1;\n",
       "          border-color: black;\n",
       "          border-style: solid;\n",
       "          border-width: 1px;\n",
       "    }    #T_e8d6373e_ba0c_11e9_8ecc_f2189866aa27 tr:nth-of-type(odd) {\n",
       "          background: #eee;\n",
       "          border: 0.2px solid black;\n",
       "    }    #T_e8d6373e_ba0c_11e9_8ecc_f2189866aa27 tr:nth-of-type(even) {\n",
       "          background: white;\n",
       "          border: 0.2px solid black;\n",
       "    }</style><table id=\"T_e8d6373e_ba0c_11e9_8ecc_f2189866aa27\" style=\"border-collapse:collapse\"><thead>    <tr>        <th class=\"col_heading level0 col0\" >A</th>        <th class=\"col_heading level0 col1\" >B</th>        <th class=\"col_heading level0 col2\" >C</th>        <th class=\"col_heading level0 col3\" >D</th>        <th class=\"col_heading level0 col4\" >E</th>    </tr></thead><tbody>\n",
       "                <tr>\n",
       "                                <td id=\"T_e8d6373e_ba0c_11e9_8ecc_f2189866aa27row0_col0\" class=\"data row0 col0\" >1</td>\n",
       "                        <td id=\"T_e8d6373e_ba0c_11e9_8ecc_f2189866aa27row0_col1\" class=\"data row0 col1\" >$1.33</td>\n",
       "                        <td id=\"T_e8d6373e_ba0c_11e9_8ecc_f2189866aa27row0_col2\" class=\"data row0 col2\" >-77.00%</td>\n",
       "                        <td id=\"T_e8d6373e_ba0c_11e9_8ecc_f2189866aa27row0_col3\" class=\"data row0 col3\" >-0.32</td>\n",
       "                        <td id=\"T_e8d6373e_ba0c_11e9_8ecc_f2189866aa27row0_col4\" class=\"data row0 col4\" >-0.99081</td>\n",
       "            </tr>\n",
       "            <tr>\n",
       "                                <td id=\"T_e8d6373e_ba0c_11e9_8ecc_f2189866aa27row1_col0\" class=\"data row1 col0\" >2</td>\n",
       "                        <td id=\"T_e8d6373e_ba0c_11e9_8ecc_f2189866aa27row1_col1\" class=\"data row1 col1\" >$-1.07</td>\n",
       "                        <td id=\"T_e8d6373e_ba0c_11e9_8ecc_f2189866aa27row1_col2\" class=\"data row1 col2\" >-143.87%</td>\n",
       "                        <td id=\"T_e8d6373e_ba0c_11e9_8ecc_f2189866aa27row1_col3\" class=\"data row1 col3\" >+0.56</td>\n",
       "                        <td id=\"T_e8d6373e_ba0c_11e9_8ecc_f2189866aa27row1_col4\" class=\"data row1 col4\" >0.295722</td>\n",
       "            </tr>\n",
       "            <tr>\n",
       "                                <td id=\"T_e8d6373e_ba0c_11e9_8ecc_f2189866aa27row2_col0\" class=\"data row2 col0\" >3</td>\n",
       "                        <td id=\"T_e8d6373e_ba0c_11e9_8ecc_f2189866aa27row2_col1\" class=\"data row2 col1\" >$-1.63</td>\n",
       "                        <td id=\"T_e8d6373e_ba0c_11e9_8ecc_f2189866aa27row2_col2\" class=\"data row2 col2\" >21.96%</td>\n",
       "                        <td id=\"T_e8d6373e_ba0c_11e9_8ecc_f2189866aa27row2_col3\" class=\"data row2 col3\" >+0.68</td>\n",
       "                        <td id=\"T_e8d6373e_ba0c_11e9_8ecc_f2189866aa27row2_col4\" class=\"data row2 col4\" >1.88927</td>\n",
       "            </tr>\n",
       "            <tr>\n",
       "                                <td id=\"T_e8d6373e_ba0c_11e9_8ecc_f2189866aa27row3_col0\" class=\"data row3 col0\" >4</td>\n",
       "                        <td id=\"T_e8d6373e_ba0c_11e9_8ecc_f2189866aa27row3_col1\" class=\"data row3 col1\" >$0.96</td>\n",
       "                        <td id=\"T_e8d6373e_ba0c_11e9_8ecc_f2189866aa27row3_col2\" class=\"data row3 col2\" >10.40%</td>\n",
       "                        <td id=\"T_e8d6373e_ba0c_11e9_8ecc_f2189866aa27row3_col3\" class=\"data row3 col3\" >-0.48</td>\n",
       "                        <td id=\"T_e8d6373e_ba0c_11e9_8ecc_f2189866aa27row3_col4\" class=\"data row3 col4\" >0.850229</td>\n",
       "            </tr>\n",
       "            <tr>\n",
       "                                <td id=\"T_e8d6373e_ba0c_11e9_8ecc_f2189866aa27row4_col0\" class=\"data row4 col0\" >5</td>\n",
       "                        <td id=\"T_e8d6373e_ba0c_11e9_8ecc_f2189866aa27row4_col1\" class=\"data row4 col1\" >$1.45</td>\n",
       "                        <td id=\"T_e8d6373e_ba0c_11e9_8ecc_f2189866aa27row4_col2\" class=\"data row4 col2\" >105.77%</td>\n",
       "                        <td id=\"T_e8d6373e_ba0c_11e9_8ecc_f2189866aa27row4_col3\" class=\"data row4 col3\" >+0.17</td>\n",
       "                        <td id=\"T_e8d6373e_ba0c_11e9_8ecc_f2189866aa27row4_col4\" class=\"data row4 col4\" >0.515018</td>\n",
       "            </tr>\n",
       "            <tr>\n",
       "                                <td id=\"T_e8d6373e_ba0c_11e9_8ecc_f2189866aa27row5_col0\" class=\"data row5 col0\" >6</td>\n",
       "                        <td id=\"T_e8d6373e_ba0c_11e9_8ecc_f2189866aa27row5_col1\" class=\"data row5 col1\" >$-1.34</td>\n",
       "                        <td id=\"T_e8d6373e_ba0c_11e9_8ecc_f2189866aa27row5_col2\" class=\"data row5 col2\" >56.29%</td>\n",
       "                        <td id=\"T_e8d6373e_ba0c_11e9_8ecc_f2189866aa27row5_col3\" class=\"data row5 col3\" >+1.39</td>\n",
       "                        <td id=\"T_e8d6373e_ba0c_11e9_8ecc_f2189866aa27row5_col4\" class=\"data row5 col4\" >-0.063328</td>\n",
       "            </tr>\n",
       "            <tr>\n",
       "                                <td id=\"T_e8d6373e_ba0c_11e9_8ecc_f2189866aa27row6_col0\" class=\"data row6 col0\" >7</td>\n",
       "                        <td id=\"T_e8d6373e_ba0c_11e9_8ecc_f2189866aa27row6_col1\" class=\"data row6 col1\" >$0.12</td>\n",
       "                        <td id=\"T_e8d6373e_ba0c_11e9_8ecc_f2189866aa27row6_col2\" class=\"data row6 col2\" >120.76%</td>\n",
       "                        <td id=\"T_e8d6373e_ba0c_11e9_8ecc_f2189866aa27row6_col3\" class=\"data row6 col3\" >-0.00</td>\n",
       "                        <td id=\"T_e8d6373e_ba0c_11e9_8ecc_f2189866aa27row6_col4\" class=\"data row6 col4\" >1.6278</td>\n",
       "            </tr>\n",
       "            <tr>\n",
       "                                <td id=\"T_e8d6373e_ba0c_11e9_8ecc_f2189866aa27row7_col0\" class=\"data row7 col0\" >8</td>\n",
       "                        <td id=\"T_e8d6373e_ba0c_11e9_8ecc_f2189866aa27row7_col1\" class=\"data row7 col1\" >$0.35</td>\n",
       "                        <td id=\"T_e8d6373e_ba0c_11e9_8ecc_f2189866aa27row7_col2\" class=\"data row7 col2\" >103.75%</td>\n",
       "                        <td id=\"T_e8d6373e_ba0c_11e9_8ecc_f2189866aa27row7_col3\" class=\"data row7 col3\" >-0.39</td>\n",
       "                        <td id=\"T_e8d6373e_ba0c_11e9_8ecc_f2189866aa27row7_col4\" class=\"data row7 col4\" >0.519818</td>\n",
       "            </tr>\n",
       "            <tr>\n",
       "                                <td id=\"T_e8d6373e_ba0c_11e9_8ecc_f2189866aa27row8_col0\" class=\"data row8 col0\" >9</td>\n",
       "                        <td id=\"T_e8d6373e_ba0c_11e9_8ecc_f2189866aa27row8_col1\" class=\"data row8 col1\" >$1.69</td>\n",
       "                        <td id=\"T_e8d6373e_ba0c_11e9_8ecc_f2189866aa27row8_col2\" class=\"data row8 col2\" >-132.60%</td>\n",
       "                        <td id=\"T_e8d6373e_ba0c_11e9_8ecc_f2189866aa27row8_col3\" class=\"data row8 col3\" >+1.43</td>\n",
       "                        <td id=\"T_e8d6373e_ba0c_11e9_8ecc_f2189866aa27row8_col4\" class=\"data row8 col4\" >-2.08935</td>\n",
       "            </tr>\n",
       "            <tr>\n",
       "                                <td id=\"T_e8d6373e_ba0c_11e9_8ecc_f2189866aa27row9_col0\" class=\"data row9 col0\" >10</td>\n",
       "                        <td id=\"T_e8d6373e_ba0c_11e9_8ecc_f2189866aa27row9_col1\" class=\"data row9 col1\" >$-0.13</td>\n",
       "                        <td id=\"T_e8d6373e_ba0c_11e9_8ecc_f2189866aa27row9_col2\" class=\"data row9 col2\" >63.15%</td>\n",
       "                        <td id=\"T_e8d6373e_ba0c_11e9_8ecc_f2189866aa27row9_col3\" class=\"data row9 col3\" >-0.59</td>\n",
       "                        <td id=\"T_e8d6373e_ba0c_11e9_8ecc_f2189866aa27row9_col4\" class=\"data row9 col4\" >0.29072</td>\n",
       "            </tr>\n",
       "    </tbody></table>"
      ],
      "text/plain": [
       "<pandas.io.formats.style.Styler at 0x11da4a7f0>"
      ]
     },
     "execution_count": 40,
     "metadata": {},
     "output_type": "execute_result"
    }
   ],
   "source": [
    "numbers_table"
   ]
  },
  {
   "cell_type": "code",
   "execution_count": null,
   "metadata": {},
   "outputs": [],
   "source": []
  }
 ],
 "metadata": {
  "kernelspec": {
   "display_name": "Python 3",
   "language": "python",
   "name": "python3"
  },
  "language_info": {
   "codemirror_mode": {
    "name": "ipython",
    "version": 3
   },
   "file_extension": ".py",
   "mimetype": "text/x-python",
   "name": "python",
   "nbconvert_exporter": "python",
   "pygments_lexer": "ipython3",
   "version": "3.7.2"
  }
 },
 "nbformat": 4,
 "nbformat_minor": 2
}
